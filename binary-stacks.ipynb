{
 "cells": [
  {
   "cell_type": "markdown",
   "metadata": {},
   "source": [
    "# Reference"
   ]
  },
  {
   "cell_type": "code",
   "execution_count": 64,
   "metadata": {},
   "outputs": [],
   "source": [
    "import numpy as np\n",
    "\n",
    "w = 1024\n",
    "h = 768\n",
    "canvas = np.zeros((h, w))\n",
    "\n",
    "line_widths = [0 for i in range(h)]\n",
    "\n",
    "actual = 0\n",
    "count = 0\n",
    "\n",
    "while True:\n",
    "    i = np.argmin(line_widths)\n",
    "    binary_count = [int(bit) for bit in reversed(bin(count)[2:])]\n",
    "    offset = line_widths[i]\n",
    "    if offset + len(binary_count) >= w:\n",
    "        break\n",
    "    canvas[i, offset:offset+len(binary_count)] = binary_count\n",
    "    line_widths[i] += len(binary_count)\n",
    "    count += 1\n",
    "    if actual % 255 == 0:\n",
    "        count >>= 1\n",
    "    actual += 1\n",
    "\n"
   ]
  },
  {
   "cell_type": "markdown",
   "metadata": {},
   "source": [
    "# Optimized"
   ]
  },
  {
   "cell_type": "code",
   "execution_count": 103,
   "metadata": {},
   "outputs": [],
   "source": [
    "import numpy as np\n",
    "from numba import njit\n",
    "\n",
    "@njit\n",
    "def int_to_binary_array(value):\n",
    "    binary_array = []\n",
    "    while value > 0:\n",
    "        binary_array.append(value % 2)\n",
    "        value //= 2\n",
    "    return binary_array\n",
    "\n",
    "@njit\n",
    "def generate_canvas(w, h, skip):\n",
    "    canvas = np.zeros((h, w), dtype=np.float32)\n",
    "    line_widths = np.zeros(h, dtype=np.int32)\n",
    "    actual = 0\n",
    "    count = 0\n",
    "    \n",
    "    binary_arrays = [int_to_binary_array(i) for i in range(2048)]\n",
    "\n",
    "    while True:\n",
    "        i = np.argmin(line_widths)\n",
    "        binary_count = binary_arrays[count] #int_to_binary_array(count)\n",
    "        offset = line_widths[i]\n",
    "        if offset + len(binary_count) >= w:\n",
    "            break\n",
    "        canvas[i, offset:offset + len(binary_count)] = binary_count\n",
    "        line_widths[i] += len(binary_count)\n",
    "        count += 1\n",
    "        if actual % skip == 0:\n",
    "            count >>= 1\n",
    "        actual += 1\n",
    "\n",
    "    return canvas\n",
    "\n",
    "w = 1920*4\n",
    "h = 1080*4\n",
    "skip = 1000\n",
    "canvas = generate_canvas(w, h, skip)"
   ]
  },
  {
   "cell_type": "markdown",
   "metadata": {},
   "source": [
    "# Heap-based optimization"
   ]
  },
  {
   "cell_type": "code",
   "execution_count": 114,
   "metadata": {},
   "outputs": [
    {
     "ename": "KeyboardInterrupt",
     "evalue": "",
     "output_type": "error",
     "traceback": [
      "\u001b[0;31m---------------------------------------------------------------------------\u001b[0m",
      "\u001b[0;31mKeyboardInterrupt\u001b[0m                         Traceback (most recent call last)",
      "Cell \u001b[0;32mIn[114], line 48\u001b[0m\n\u001b[1;32m     46\u001b[0m h \u001b[38;5;241m=\u001b[39m \u001b[38;5;241m1080\u001b[39m \u001b[38;5;241m*\u001b[39m \u001b[38;5;241m4\u001b[39m\n\u001b[1;32m     47\u001b[0m skip \u001b[38;5;241m=\u001b[39m i\n\u001b[0;32m---> 48\u001b[0m canvas \u001b[38;5;241m=\u001b[39m \u001b[43mgenerate_canvas_optimized\u001b[49m\u001b[43m(\u001b[49m\u001b[43mw\u001b[49m\u001b[43m,\u001b[49m\u001b[43m \u001b[49m\u001b[43mh\u001b[49m\u001b[43m,\u001b[49m\u001b[43m \u001b[49m\u001b[43mskip\u001b[49m\u001b[43m)\u001b[49m\n\u001b[1;32m     49\u001b[0m imwrite(\u001b[38;5;124mf\u001b[39m\u001b[38;5;124m\"\u001b[39m\u001b[38;5;132;01m{\u001b[39;00mw\u001b[38;5;132;01m}\u001b[39;00m\u001b[38;5;124mx\u001b[39m\u001b[38;5;132;01m{\u001b[39;00mh\u001b[38;5;132;01m}\u001b[39;00m\u001b[38;5;124m-\u001b[39m\u001b[38;5;132;01m{\u001b[39;00mskip\u001b[38;5;132;01m}\u001b[39;00m\u001b[38;5;124m.png\u001b[39m\u001b[38;5;124m\"\u001b[39m, canvas\u001b[38;5;241m*\u001b[39m\u001b[38;5;241m255\u001b[39m)\n",
      "Cell \u001b[0;32mIn[114], line 36\u001b[0m, in \u001b[0;36mgenerate_canvas_optimized\u001b[0;34m(w, h, skip)\u001b[0m\n\u001b[1;32m     34\u001b[0m canvas[i, offset:offset \u001b[38;5;241m+\u001b[39m \u001b[38;5;28mlen\u001b[39m(binary_count)] \u001b[38;5;241m=\u001b[39m binary_count\n\u001b[1;32m     35\u001b[0m line_widths[i] \u001b[38;5;241m+\u001b[39m\u001b[38;5;241m=\u001b[39m \u001b[38;5;28mlen\u001b[39m(binary_count)\n\u001b[0;32m---> 36\u001b[0m \u001b[43mheapq\u001b[49m\u001b[38;5;241;43m.\u001b[39;49m\u001b[43mheappush\u001b[49m\u001b[43m(\u001b[49m\u001b[43mheap\u001b[49m\u001b[43m,\u001b[49m\u001b[43m \u001b[49m\u001b[43m(\u001b[49m\u001b[43mline_widths\u001b[49m\u001b[43m[\u001b[49m\u001b[43mi\u001b[49m\u001b[43m]\u001b[49m\u001b[43m,\u001b[49m\u001b[43m \u001b[49m\u001b[43mi\u001b[49m\u001b[43m)\u001b[49m\u001b[43m)\u001b[49m\n\u001b[1;32m     37\u001b[0m count \u001b[38;5;241m+\u001b[39m\u001b[38;5;241m=\u001b[39m \u001b[38;5;241m1\u001b[39m\n\u001b[1;32m     38\u001b[0m \u001b[38;5;28;01mif\u001b[39;00m actual \u001b[38;5;241m%\u001b[39m skip \u001b[38;5;241m==\u001b[39m \u001b[38;5;241m0\u001b[39m:\n",
      "\u001b[0;31mKeyboardInterrupt\u001b[0m: "
     ]
    }
   ],
   "source": [
    "import numpy as np\n",
    "import heapq\n",
    "from utils.imutil import imwrite\n",
    "\n",
    "memo = {}\n",
    "\n",
    "def int_to_binary_array(value):\n",
    "    if value in memo:\n",
    "        return memo[value]\n",
    "    \n",
    "    binary_array = []\n",
    "    original_value = value\n",
    "    while value > 0:\n",
    "        binary_array.append(bool(value % 2))\n",
    "        value //= 2\n",
    "    memo[original_value] = binary_array\n",
    "    return binary_array\n",
    "\n",
    "def generate_canvas_optimized(w, h, skip):\n",
    "    canvas = np.zeros((h, w), dtype=bool)\n",
    "    line_widths = np.zeros(h, dtype=np.int32)\n",
    "    heap = [(0, i) for i in range(h)]\n",
    "    heapq.heapify(heap)\n",
    "    \n",
    "    actual = 0\n",
    "    count = 0\n",
    "\n",
    "    while True:\n",
    "        min_width, i = heapq.heappop(heap)\n",
    "        binary_count = int_to_binary_array(count)\n",
    "        offset = line_widths[i]\n",
    "        if offset + len(binary_count) >= w:\n",
    "            break\n",
    "        canvas[i, offset:offset + len(binary_count)] = binary_count\n",
    "        line_widths[i] += len(binary_count)\n",
    "        heapq.heappush(heap, (line_widths[i], i))\n",
    "        count += 1\n",
    "        if actual % skip == 0:\n",
    "            count >>= 1\n",
    "        actual += 1\n",
    "\n",
    "    return canvas\n",
    "\n",
    "for i in range(768,1023):\n",
    "    w = 1920 * 4\n",
    "    h = 1080 * 4\n",
    "    skip = i\n",
    "    canvas = generate_canvas_optimized(w, h, skip)\n",
    "    imwrite(f\"{w}x{h}-{skip}.png\", canvas*255)"
   ]
  },
  {
   "cell_type": "code",
   "execution_count": 90,
   "metadata": {},
   "outputs": [],
   "source": [
    "# from utils.imutil import imshow\n",
    "\n",
    "# imshow(canvas[:768,:1024]*255)"
   ]
  },
  {
   "cell_type": "code",
   "execution_count": null,
   "metadata": {},
   "outputs": [],
   "source": []
  }
 ],
 "metadata": {
  "kernelspec": {
   "display_name": "datascience",
   "language": "python",
   "name": "python3"
  },
  "language_info": {
   "codemirror_mode": {
    "name": "ipython",
    "version": 3
   },
   "file_extension": ".py",
   "mimetype": "text/x-python",
   "name": "python",
   "nbconvert_exporter": "python",
   "pygments_lexer": "ipython3",
   "version": "3.10.14"
  }
 },
 "nbformat": 4,
 "nbformat_minor": 2
}
